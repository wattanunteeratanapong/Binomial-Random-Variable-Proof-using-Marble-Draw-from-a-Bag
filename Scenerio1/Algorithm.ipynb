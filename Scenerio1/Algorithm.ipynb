{
 "cells": [
  {
   "cell_type": "code",
   "execution_count": 1,
   "id": "6ea412d9-2934-4841-99a0-f15574ba111f",
   "metadata": {},
   "outputs": [],
   "source": [
    "# Scenerio 1\n",
    "# There are 2 marbles in a bag: 1 red, 1 green.\n",
    "\n",
    "# Success : If the color of the marble is red.\n",
    "# Failure : If the color of the marble is green."
   ]
  },
  {
   "cell_type": "code",
   "execution_count": 2,
   "id": "f7761441-03fc-46c8-b986-9b28b09dce8a",
   "metadata": {},
   "outputs": [],
   "source": [
    "import random"
   ]
  },
  {
   "cell_type": "code",
   "execution_count": 3,
   "id": "9fa0250d-9a99-468c-88ed-de1b2960e42a",
   "metadata": {},
   "outputs": [],
   "source": [
    "trial = 10\n",
    "\n",
    "bag = ['red', 'green', 'green']\n",
    "success = 0"
   ]
  },
  {
   "cell_type": "code",
   "execution_count": 4,
   "id": "50323a8c-df16-4c9b-a62d-9d60e4e59bdc",
   "metadata": {},
   "outputs": [
    {
     "name": "stdout",
     "output_type": "stream",
     "text": [
      "Success 3 in 10 trials\n"
     ]
    }
   ],
   "source": [
    "for i in range(trial):\n",
    "    random_marble = random.choice(bag)\n",
    "    if random_marble == 'red':\n",
    "        success += 1\n",
    "\n",
    "print(f\"Success {success} in {trial} trials\")"
   ]
  }
 ],
 "metadata": {
  "kernelspec": {
   "display_name": "Python 3 (ipykernel)",
   "language": "python",
   "name": "python3"
  },
  "language_info": {
   "codemirror_mode": {
    "name": "ipython",
    "version": 3
   },
   "file_extension": ".py",
   "mimetype": "text/x-python",
   "name": "python",
   "nbconvert_exporter": "python",
   "pygments_lexer": "ipython3",
   "version": "3.8.19"
  }
 },
 "nbformat": 4,
 "nbformat_minor": 5
}
